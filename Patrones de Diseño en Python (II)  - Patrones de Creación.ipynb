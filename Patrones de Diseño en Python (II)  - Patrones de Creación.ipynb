{
 "cells": [
  {
   "cell_type": "markdown",
   "metadata": {},
   "source": [
    "# Patrones de Diseño en Python (II)  - Patrones de Creación"
   ]
  },
  {
   "cell_type": "markdown",
   "metadata": {},
   "source": [
    "![Portada2](./imagenes/Portada2.png)"
   ]
  },
  {
   "cell_type": "markdown",
   "metadata": {},
   "source": [
    "## Patrones de creación"
   ]
  },
  {
   "cell_type": "markdown",
   "metadata": {},
   "source": [
    "Los patrones creacionales proporcionan varios mecanismos de creación de objetos que incrementan la flexibilidad y la reutilización del código existente.\n",
    "\n",
    "Los patrones de creación abstraen la forma en la que se crean los objetos, permitiendo tratar las clases a crear de forma genérica dejando para más tarde la decisión de qué clases crear o cómo crearlas."
   ]
  },
  {
   "cell_type": "markdown",
   "metadata": {},
   "source": [
    "### Singleton"
   ]
  },
  {
   "cell_type": "markdown",
   "metadata": {},
   "source": [
    "Nuestro sistema requiere que una determinada clase sólo pueda ser instanciada una vez. Esto es útil cuando varios clientes desean utilizar una funcionalidad que es proporcionada por un único objeto. Nuestro objetivo será garantizar que la clase en cuestión no pueda generar más de una instancia y proporcionar un punto de acceso fijo a la misma.\n",
    "\n",
    "**Se aplica cuando:**\n",
    "\n",
    "Nuestro sistema tiene una clase que sólo deba ser instanciada una vez.\n",
    "Dicha clase requiere de un punto de acceso global y conocido.\n",
    "\n",
    "**Solución y Estructura:**\n",
    "\n",
    "Para que éste escenario sea posible debemos asegurarnos que nuestra clase es instanciada si y sólo si no ha sido instanciada antes. Para controlar esta característica debemos hacer que el constructor sea privado, es decir, regulamos la instanciación de la clase dentro de la misma clase.\n",
    "\n",
    "Para acceder a la clase debemos crear un atributo estático que represente una instancia de la misma, que debe ser de tipo privado. El acceso al atributo se hará desde un método público y estático que, en caso de no estar instanciado el atributo que representa la instancia, lo crea y en caso de que dicho atributo ya esté instanciado, lo devuelve.\n",
    "\n",
    "> Garantiza que una clase sólo tenga una instancia, y proporciona un punto de acceso global a ella.\n",
    "\n",
    "![singleton](imagenes/singleton.png)\n",
    "\n",
    "**Singleton:** Es la única clase que participa en este patrón (a parte de las clases cliente que la utilicen). Está compuesta de:\n",
    "\n",
    "- **instance:** atributo que representa la instancia única de la clase.\n",
    "- **Singleton():** constructor privado de la clase.\n",
    "- **getInstance():** método público que crea (en caso de no existir) o devuelve una instancia a la propia clase.\n",
    "\n",
    "\n",
    "Consecuencias:\n",
    "\n",
    "POSITIVAS:\n",
    "Reduce el espacio de nombres, mejorando la utilidad proporcionada por las variables globales.\n",
    "Control de acceso a la instancia única.\n",
    "NEGATIVAS:\n",
    "En sistemas distribuidos se debe establecer un control de acceso."
   ]
  },
  {
   "cell_type": "markdown",
   "metadata": {},
   "source": [
    "##### La clase Singleton"
   ]
  },
  {
   "cell_type": "code",
   "execution_count": 1,
   "metadata": {},
   "outputs": [],
   "source": [
    "class Singleton():\n",
    "\n",
    "    _instance = None\n",
    "    _value = 0\n",
    "\n",
    "    @classmethod\n",
    "    def get_instance(cls): # Constructor alternativo que retorna una nueva instancia\n",
    "        if not cls._instance:\n",
    "            cls._instance = cls()\n",
    "        return cls._instance\n",
    "\n",
    "    def get_value(self):\n",
    "        return self._value\n",
    "\n",
    "    def set_value(self, v):\n",
    "        self._value = v"
   ]
  },
  {
   "cell_type": "markdown",
   "metadata": {},
   "source": [
    "Sólo existe una sóla instacia, por ello, tanto el objeto \"A\" como el objeto \"B\" son la misma instancia de la clase singleton."
   ]
  },
  {
   "cell_type": "code",
   "execution_count": 8,
   "metadata": {},
   "outputs": [
    {
     "name": "stdout",
     "output_type": "stream",
     "text": [
      "¿A es el mismo objeto que b ?:  True\n"
     ]
    }
   ],
   "source": [
    "A = Singleton.get_instance()\n",
    "B = Singleton.get_instance()\n",
    "print(\"¿A es el mismo objeto que B?: \", A is B)\n"
   ]
  },
  {
   "cell_type": "code",
   "execution_count": 14,
   "metadata": {},
   "outputs": [
    {
     "name": "stdout",
     "output_type": "stream",
     "text": [
      "A: <__main__.Singleton object at 0x000001E85F92CEF0>\n",
      "B: <__main__.Singleton object at 0x000001E85F92CEF0>\n"
     ]
    }
   ],
   "source": [
    "print(f'A: {A._instance}\\nB: {B._instance}')"
   ]
  },
  {
   "cell_type": "markdown",
   "metadata": {},
   "source": [
    "Comprobación accediendo al valor de ```_value```:"
   ]
  },
  {
   "cell_type": "code",
   "execution_count": 7,
   "metadata": {},
   "outputs": [
    {
     "name": "stdout",
     "output_type": "stream",
     "text": [
      "10\n"
     ]
    }
   ],
   "source": [
    "B.set_value(10)\n",
    "print(A.get_value())"
   ]
  },
  {
   "cell_type": "markdown",
   "metadata": {},
   "source": [
    "##### Singleton como Decorador"
   ]
  },
  {
   "cell_type": "code",
   "execution_count": 16,
   "metadata": {},
   "outputs": [],
   "source": [
    "def singleton(cls):\n",
    "\n",
    "    instances = dict()\n",
    "\n",
    "    def wrap(*args, **kwargs):\n",
    "        if cls not in instances:\n",
    "            instances[cls] = cls(*args, **kwargs)\n",
    "        return instances[cls]\n",
    "\n",
    "    return wrap"
   ]
  },
  {
   "cell_type": "code",
   "execution_count": 38,
   "metadata": {},
   "outputs": [],
   "source": [
    "@singleton\n",
    "class Admin():\n",
    "\n",
    "    def __init__(self, name, hours):\n",
    "        self.name = name\n",
    "        self.hours = hours\n",
    "        _value = 0\n",
    "\n",
    "    def get_value(self):\n",
    "        return self._value\n",
    "\n",
    "    def set_value(self, v):\n",
    "        self._value = v"
   ]
  },
  {
   "cell_type": "code",
   "execution_count": 40,
   "metadata": {},
   "outputs": [],
   "source": [
    "admin1 = Admin(\"Jaime\", 1)\n",
    "admin2 = Admin(\"Jordi\", 4)"
   ]
  },
  {
   "cell_type": "code",
   "execution_count": 47,
   "metadata": {},
   "outputs": [
    {
     "name": "stdout",
     "output_type": "stream",
     "text": [
      "¿admin1 es el mismo objeto que admin2?:  True\n"
     ]
    }
   ],
   "source": [
    "print(\"¿admin1 es el mismo objeto que admin2?: \", admin1 is admin2)"
   ]
  },
  {
   "cell_type": "code",
   "execution_count": 43,
   "metadata": {},
   "outputs": [
    {
     "data": {
      "text/plain": [
       "2"
      ]
     },
     "execution_count": 43,
     "metadata": {},
     "output_type": "execute_result"
    }
   ],
   "source": [
    "admin1.set_value(2)\n",
    "admin2.get_value()"
   ]
  },
  {
   "cell_type": "markdown",
   "metadata": {},
   "source": [
    "La instancia es la misma, por tanto los parametros introducidos en el ```admin2``` no tienen efecto"
   ]
  },
  {
   "cell_type": "code",
   "execution_count": 48,
   "metadata": {},
   "outputs": [
    {
     "data": {
      "text/plain": [
       "('Jaime', 'Jaime', 1, 1)"
      ]
     },
     "execution_count": 48,
     "metadata": {},
     "output_type": "execute_result"
    }
   ],
   "source": [
    "admin1.name, admin2.name, admin1.hours, admin2.hours"
   ]
  },
  {
   "cell_type": "markdown",
   "metadata": {},
   "source": [
    "***"
   ]
  },
  {
   "cell_type": "markdown",
   "metadata": {},
   "source": [
    "### Prototype"
   ]
  },
  {
   "cell_type": "markdown",
   "metadata": {},
   "source": [
    "En algunos casos, el coste de crear un objeto nuevo desde 0 es muy elevado, y más aún si luego hay que establecer una gran colección de atributos. En éste contexto sería más conveniente clonar un objeto predeterminado que actúe de prototipo y modificar los valores necesarios para que se ajuste a su nuevo propósito.\n",
    "\n",
    "**Se aplica cuando:**\n",
    "\n",
    "La creación de nuevos objetos acarrea un coste computacional elevado..\n",
    "Los objetos a crear tienen o suelen tener atributos que repiten su valor.\n",
    "\n",
    "**Solución y Estructura:**\n",
    "\n",
    "La solución consistirá en definir una interfaz que expone el método necesario para realizar la clonación del objeto. Las clases que pueden ser clonadas implementarán esta interfaz, mientras que las clases que deseen clonar deberán utilizar el método definido en la interfaz.\n",
    "\n",
    "\n",
    "\n",
    "> Especifica los tipos de objetos a crear por medio de una instancia prototípica, y crear nuevos objetos copiando este prototipo.\n",
    "\n",
    "![prototype](imagenes/prototype.png)\n",
    "\n",
    "- **Prototype:** Interfaz que define la operación de clonado. Será implementada por todos los objetos que puedan ser clonados. En ocasiones es implementado como una clase abstracta.\n",
    "\n",
    "- **Client:** Crea nuevos objetos mediante la clonación de los mismos.\n",
    "\n",
    "- **ConcretePrototype1:** Clase que puede ser instanciada mediante la clonación de un prototipo. Implementa la interfaz Prototype.\n",
    "\n",
    "- **ConcretePrototype2:** Otra clase con las mismas características que ConcretePrototype1.\n",
    "\n",
    "**Consecuencias:**\n",
    "\n",
    "- POSITIVAS: \n",
    "    - Clonar un objeto es mucho más rápido que crearlo.\n",
    "    - Un programa puede añadir y borrar dinámicamente objetos prototipo en tiempo de ejecución.\n",
    "    - El cliente no debe conocer los detalles de cómo construir los objetos prototipo.\n",
    "- NEGATIVAS:\n",
    "    - En objetos muy complejos, implementar la interfaz Prototype puede ser muy complicada."
   ]
  },
  {
   "cell_type": "markdown",
   "metadata": {},
   "source": [
    "##### Prototipo"
   ]
  },
  {
   "cell_type": "markdown",
   "metadata": {},
   "source": [
    "Tenemos que lanzar ofertas de trabajo similares para nuestra empresa. Para crear nuevas ofertas de trabajo modificaremos únicamente el nombre, la descripción y el jefe. Empezamos con el prototipo:"
   ]
  },
  {
   "cell_type": "code",
   "execution_count": 110,
   "metadata": {},
   "outputs": [],
   "source": [
    "from abc import ABC, abstractmethod\n",
    "from copy import copy, deepcopy\n",
    "\n",
    "class Employee(ABC):\n",
    "    \n",
    "    def __init__(self):\n",
    "        self.__description__ = \"\"\n",
    "        self.__name__ = \"\"\n",
    "        self.__boss__ = None\n",
    "\n",
    "    def hello(self):\n",
    "        return f'Job Offer: {self.__name__},\\n\\\n",
    "        Description: {str(self.__description__)}.\\n\\\n",
    "        Your boss is: {self.__boss__.get_name()}\\n'\n",
    "\n",
    "    def set_boss(self, boss):\n",
    "        self.__boss__ = boss;\n",
    "\n",
    "    def get_boss(self):\n",
    "        return self.__boss__\n",
    "    \n",
    "    def change_boss(self, name):\n",
    "        self.__boss__.set_name(name)\n",
    "\n",
    "    def set_description(self, description):\n",
    "        self.__description__ = description;\n",
    "    \n",
    "    def get_description(self):\n",
    "        return self.__description__\n",
    "\n",
    "    def get_name(self):\n",
    "        return self.__name__\n",
    "\n",
    "    def set_name(self, name):\n",
    "        self.__name__ = name;\n",
    "\n",
    "    def clone(self):\n",
    "        return deepcopy(self)\n"
   ]
  },
  {
   "cell_type": "code",
   "execution_count": 111,
   "metadata": {},
   "outputs": [],
   "source": [
    "class Junior(Employee):\n",
    "    pass\n",
    "\n",
    "class Senior(Employee):\n",
    "    pass\n",
    "\n",
    "class Expert(Employee):\n",
    "    pass\n",
    "\n",
    "class Boss():\n",
    "\n",
    "    def __init__(self, name):\n",
    "        self.__name__ = name\n",
    "\n",
    "    def get_name(self):\n",
    "        return self.__name__;\n",
    "    \n",
    "    def set_name(self, name):\n",
    "        self.__name__ = name;"
   ]
  },
  {
   "cell_type": "markdown",
   "metadata": {},
   "source": [
    "##### Fabrica de Prototipos"
   ]
  },
  {
   "cell_type": "markdown",
   "metadata": {},
   "source": [
    "Construcción de los prototipos concretos para cada oferta de trabajo:"
   ]
  },
  {
   "cell_type": "code",
   "execution_count": 129,
   "metadata": {},
   "outputs": [],
   "source": [
    "class JobOffersCreator():\n",
    "    def __init__(self):\n",
    "        self.__junior__ = Junior()\n",
    "        self.__senior__ = Senior()\n",
    "        self.__expert__ = Expert()\n",
    "        \n",
    "        self.__junior__.set_boss(Boss(\"JS\"))\n",
    "        self.__junior__.set_description(\"engineer to be trained\")\n",
    "        self.__junior__.set_name(\"Industrial Engineer\")\n",
    "        \n",
    "        self.__senior__.set_boss(Boss(\"JS\"))\n",
    "        self.__senior__.set_description(\"Technical engineer\")\n",
    "        self.__senior__.set_name(\"Industrial Engineer\")\n",
    "        \n",
    "        self.__expert__.set_boss(Boss(\"JB\"))\n",
    "        self.__expert__.set_description(\"Technical Manager FA\")\n",
    "        self.__expert__.set_name(\"Industrial Engineer\")\n",
    "\n",
    "    def retrieve_job_offers(self, employee):\n",
    "        \n",
    "        if \"Expert\" == employee:\n",
    "            return self.__expert__.clone()\n",
    "        \n",
    "        elif \"Senior\" == employee:\n",
    "            return self.__senior__.clone()\n",
    "        \n",
    "        elif \"Junior\" == employee:\n",
    "            return self.__junior__.clone()\n",
    "        \n",
    "        else:\n",
    "            raise Exception(\"Sorry, employee not implemented\")"
   ]
  },
  {
   "cell_type": "markdown",
   "metadata": {},
   "source": [
    "El método ```main()``` hará de cliente y creará distintas ofertas de trabajo a partir de los prototipos."
   ]
  },
  {
   "cell_type": "code",
   "execution_count": 130,
   "metadata": {},
   "outputs": [
    {
     "name": "stdout",
     "output_type": "stream",
     "text": [
      "Job Offer: Industrial Engineer,\n",
      "        Description: Technical Manager FA.\n",
      "        Your boss is: JB\n",
      "\n",
      "Job Offer: Industrial Engineer,\n",
      "        Description: Technical engineer.\n",
      "        Your boss is: JS\n",
      "\n",
      "Job Offer: Industrial Engineer,\n",
      "        Description: Technical engineer.\n",
      "        Your boss is: JS\n",
      "\n",
      "Job Offer: Industrial Engineer,\n",
      "        Description: engineer to be trained.\n",
      "        Your boss is: JS\n",
      "\n"
     ]
    }
   ],
   "source": [
    "# main.py\n",
    "\n",
    "creator = JobOffersCreator()\n",
    "\n",
    "job_offers = []\n",
    "for i in range(1):\n",
    "    job_offers.append(creator.retrieve_job_offers(\"Expert\"))\n",
    "for i in range(2):\n",
    "    job_offers.append(creator.retrieve_job_offers(\"Senior\"))\n",
    "for i in range(1):\n",
    "    job_offers.append(creator.retrieve_job_offers(\"Junior\"))\n",
    "    \n",
    "for i in job_offers:\n",
    "    print(i.hello())"
   ]
  },
  {
   "cell_type": "markdown",
   "metadata": {},
   "source": [
    "Modificación de instancias una vez han sido creadas:"
   ]
  },
  {
   "cell_type": "code",
   "execution_count": 133,
   "metadata": {},
   "outputs": [
    {
     "name": "stdout",
     "output_type": "stream",
     "text": [
      "Job Offer: Computer Engineer,\n",
      "        Description: Technical engineer.\n",
      "        Your boss is: MG\n",
      "\n"
     ]
    }
   ],
   "source": [
    "job_offers[1].change_boss(\"MG\")\n",
    "job_offers[1].set_name(\"Computer Engineer\")\n",
    "\n",
    "print(job_offers[1].hello())"
   ]
  },
  {
   "cell_type": "markdown",
   "metadata": {},
   "source": [
    "***"
   ]
  },
  {
   "cell_type": "markdown",
   "metadata": {},
   "source": [
    "### Abstract Factory"
   ]
  },
  {
   "cell_type": "markdown",
   "metadata": {},
   "source": [
    "Crear diferentes familias de objetos abstrayéndonos de los detalles de su creación.\n",
    "\n",
    "**Se aplica cuando:**\n",
    "\n",
    "Hay previsión de que se incluirán nuevas familias de objetos.\n",
    "Existe dependencia (teórica) entre los tipos de objetos.\n",
    "\n",
    "**Solución y Estructura:**\n",
    "\n",
    "La solución será elaborar una interfaz para crear familias de objetos relacionados sin especificar sus clases concretas.\n",
    "\n",
    "> Proporciona una interfaz para crear familias de objetos o que dependen entre sí, sin especificar sus clases concretas.\n",
    "\n",
    "![abstract factory](imagenes/abstractfactory.png)\n",
    "\n",
    "- **Cliente:** Es el usuario de la factoría, y deberá elegir la factoría adecuada, es decir, lo que quiere es obtener una instancia de alguno de los productos (ProductoA, ProductoB).\n",
    "\n",
    "- **AbstractFactory:** Define las interfaces de las factorías, provee un método para la obtención de cada objeto que pueda crear (crearProductoA() y crearProductoB())\n",
    "\n",
    "- **Factorías Concretas:** Representan las diferentes familias de productos, proveen la instancia concreta que se encarga de crear.\n",
    "\n",
    "- **Producto abstracto:** Interfaz para productos genéricos. En el diagrama son ProductoA y ProductoB. El cliente trabaja directamente con esta interfaz, que será implementada por los diferentes productos concretos.\n",
    "\n",
    "- **Producto concreto:** Implementación específica de los diferentes productos.\n",
    "\n",
    "**Consecuencias:**\n",
    "\n",
    "- POSITIVAS:\n",
    "    - Flexibilidad al aislar las clases concretas.\n",
    "- NEGATIVAS:\n",
    "    - Para añadir nuevas familias hay que modificar tanto las clases abstractas como las concretas."
   ]
  },
  {
   "cell_type": "markdown",
   "metadata": {},
   "source": [
    "##### Factoria Abstracta"
   ]
  },
  {
   "cell_type": "markdown",
   "metadata": {},
   "source": [
    "Como ejemplo, crearemos distintos tipos de Microcontrolador (AMD o Intel) utilizando la Factoria Abstracta. \n",
    "\n",
    "A continuación crearemos una interfaz Fabricante, que permitirá crear Microcontroladores a toda clase que la implemente:"
   ]
  },
  {
   "cell_type": "code",
   "execution_count": 135,
   "metadata": {},
   "outputs": [],
   "source": [
    "from abc import ABC, abstractmethod\n",
    "\n",
    "class FabricaAbstracta(ABC):\n",
    "\n",
    "    @abstractmethod\n",
    "    def crearMemoria(self):\n",
    "        pass\n",
    "    @abstractmethod\n",
    "    def crearProcesador(self):\n",
    "        pass"
   ]
  },
  {
   "cell_type": "markdown",
   "metadata": {},
   "source": [
    "Dispondremos de una fábrica principal (la factoría abstracta) que se encargará de invocar a las fábricas concretas de cada tipo de Microcontrolador. Evidentemente tendremos que definir dichas fábricas concretas que implementarán la clase Fabricante:"
   ]
  },
  {
   "cell_type": "code",
   "execution_count": 137,
   "metadata": {},
   "outputs": [],
   "source": [
    "class FabricaAMD(FabricaAbstracta):\n",
    "\n",
    "    def crearMemoria(self):\n",
    "        return MemoriaAMD()\n",
    "\n",
    "    def crearProcesador(self):\n",
    "        return ProcesadorAMD()\n",
    "\n",
    "class FabricaIntel(FabricaAbstracta):\n",
    "\n",
    "    def crearMemoria(self):\n",
    "        return MemoriaIntel()\n",
    "\n",
    "    def crearProcesador(self):\n",
    "        return ProcesadorIntel()"
   ]
  },
  {
   "cell_type": "markdown",
   "metadata": {},
   "source": [
    "Crearemos la clase abstracta que nos permitirá representar a cualquier tipo de Microcontrolador y definirá las operaciones que cualquier fabrica de Microcontroladores puede realizar:"
   ]
  },
  {
   "cell_type": "code",
   "execution_count": 144,
   "metadata": {},
   "outputs": [],
   "source": [
    "from abc import ABC, abstractmethod\n",
    "\n",
    "class Memoria(ABC):\n",
    "    def implementacion(self):\n",
    "        print(\"..instalando memoria\")\n",
    "\n",
    "    @abstractmethod\n",
    "    def operacion(self):\n",
    "        pass\n",
    "\n",
    "class Procesador(ABC):\n",
    "    def implementacion(self):\n",
    "        print(\"..instalando procesador\")\n",
    "\n",
    "    @abstractmethod\n",
    "    def operacion(self):\n",
    "        pass"
   ]
  },
  {
   "cell_type": "markdown",
   "metadata": {},
   "source": [
    "Cada tipo de Microcontrolador implentará esta clase abstracta:"
   ]
  },
  {
   "cell_type": "code",
   "execution_count": 145,
   "metadata": {},
   "outputs": [],
   "source": [
    "class MemoriaAMD(Memoria):\n",
    "\n",
    "    def operacion(self):\n",
    "        print(\"....operando memoria AMD\")\n",
    "\n",
    "class ProcesadorAMD(Procesador):\n",
    "\n",
    "    def operacion(self):\n",
    "        print(\"....operando procesador AMD\")\n",
    "\n",
    "class MemoriaIntel(Memoria):\n",
    "\n",
    "    def operacion(self):\n",
    "        print(\"....operando memoria Intel\")\n",
    "\n",
    "class ProcesadorIntel(Procesador):\n",
    "\n",
    "    def operacion(self):\n",
    "        print(\"....operando procesador Intel\")\n"
   ]
  },
  {
   "cell_type": "markdown",
   "metadata": {},
   "source": [
    "Procedemos a utilizarlos en el ```main.py```"
   ]
  },
  {
   "cell_type": "code",
   "execution_count": 146,
   "metadata": {},
   "outputs": [
    {
     "name": "stdout",
     "output_type": "stream",
     "text": [
      "..instalando memoria\n",
      "....operando memoria AMD\n",
      "..instalando procesador\n",
      "....operando procesador AMD\n"
     ]
    }
   ],
   "source": [
    "# main.py\n",
    "\n",
    "fabrica = FabricaAMD()\n",
    "partes = [fabrica.crearMemoria(), fabrica.crearProcesador()]\n",
    "\n",
    "for p in partes:\n",
    "    p.implementacion()\n",
    "    p.operacion()"
   ]
  },
  {
   "cell_type": "markdown",
   "metadata": {},
   "source": [
    "***"
   ]
  },
  {
   "cell_type": "markdown",
   "metadata": {},
   "source": [
    "## Referencias bibliográficas\n",
    "1. Design Patterns. Elements of Reusable Object-Oriented Software - Erich Gamma, Richard Helm, Ralph Johnson, John Vlissides - Addison Wesley (GoF- Gang of Four)\n",
    "2. Patrones de Diseño, Diseño de Software Orientado a Objetos - Joaquin Garcia. http://www.ingenierosoftware.com/analisisydiseno/patrones-diseno.php.\n",
    "3. Patrones de diseño -  http://es.kioskea.net/contents/genie-logiciel/design-patterns.php3.\n",
    "4. Introducción al diseño con patrones – Miguel Lagos Torres. http://www.elrincondelprogramador.com/default.asp?pag=articulos/leer.asp&id=29.\n",
    "5. Object Oriented Desing “Software Desing Principles and Design Patters, http://www.oodesing.com\n",
    "6. Daza Corredor, Alejandro Paolo, https://github.com/apdaza/patrones-gof-python_\n",
    "\n"
   ]
  },
  {
   "cell_type": "markdown",
   "metadata": {},
   "source": [
    "---"
   ]
  },
  {
   "cell_type": "markdown",
   "metadata": {},
   "source": [
    "**Autor**:\n",
    "- [PortFolio | Jaime Sendra Berenguer](https://www.jaimesendraberenguer.com/)\n",
    "\n",
    "\n",
    "\n",
    "<table class=\"tfo-notebook-buttons\" align=\"left\">\n",
    "\n",
    "  <td>\n",
    "    <a target=\"_blank\" href=\"https://www.linkedin.com/in/jaisenbe/\"><img src=\"https://static.wixstatic.com/media/5ee9eb_93f03193bd484ab9b0c172894922677d~mv2.png/v1/fill/w_42,h_42,al_c,q_85,usm_0.66_1.00_0.01/5ee9eb_93f03193bd484ab9b0c172894922677d~mv2.webp\" />Linkedin</a>\n",
    "  </td>\n",
    "  <td>\n",
    "    <a target=\"_blank\" href=\"https://github.com/jaisenbe58r\"><img src=\"https://www.tensorflow.org/images/GitHub-Mark-32px.png\" />GitHub</a>\n",
    "  </td>\n",
    "  <td>\n",
    "    <a target=\"_blank\" href=\"https://medium.com/@jaimesendraberenguer\"><img src=\"https://static.wixstatic.com/media/5ee9eb_8325cf93e20047b7ae2b18c369fd0448~mv2.png/v1/fill/w_42,h_42,al_c,q_85,usm_0.66_1.00_0.01/5ee9eb_8325cf93e20047b7ae2b18c369fd0448~mv2.webp\" />Medium Blog</a>\n",
    "  </td>\n",
    "  <td>\n",
    "    <a target=\"_blank\" href=\"https://www.kaggle.com/jaisenbe58r\"><img src=\"https://static.wixstatic.com/media/5ee9eb_0a6d700146bb4712af78dcaa8f5a3b87~mv2.png/v1/fill/w_42,h_42,al_c,q_85,usm_0.66_1.00_0.01/5ee9eb_0a6d700146bb4712af78dcaa8f5a3b87~mv2.webp\" />Kaggle</a>\n",
    "  </td>\n",
    "</table>"
   ]
  }
 ],
 "metadata": {
  "kernelspec": {
   "display_name": "Python 3",
   "language": "python",
   "name": "python3"
  },
  "language_info": {
   "codemirror_mode": {
    "name": "ipython",
    "version": 3
   },
   "file_extension": ".py",
   "mimetype": "text/x-python",
   "name": "python",
   "nbconvert_exporter": "python",
   "pygments_lexer": "ipython3",
   "version": "3.6.9"
  }
 },
 "nbformat": 4,
 "nbformat_minor": 2
}

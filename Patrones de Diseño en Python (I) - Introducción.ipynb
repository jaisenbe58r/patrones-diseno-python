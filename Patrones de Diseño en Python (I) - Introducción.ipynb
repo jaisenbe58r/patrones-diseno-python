{
 "cells": [
  {
   "cell_type": "markdown",
   "metadata": {},
   "source": [
    "# Patrones de Diseño en Python (I) - Introducción"
   ]
  },
  {
   "cell_type": "markdown",
   "metadata": {},
   "source": [
    "![Portada1](./imagenes/Portada1.png)"
   ]
  },
  {
   "cell_type": "markdown",
   "metadata": {},
   "source": [
    "\n",
    "> _\"Each pattern describes a problem which occurs over and over again in our environment, and then describes the core of the solution to that problem, in such a way that you can use this solution a million times over, without ever doing it the same way twice\"_ [Christopher Alexander].\n",
    "\n",
    "## Introducción\n",
    "\n",
    "El diseño de software orientado a objetos es, en cierta forma, difícil, si a esta tarea sumamos que el software diseñado debe tener ciertas características deseables como la reusabilidad, flexibilidad y portabilidad entre otras, la tarea es aun más difícil.\n",
    "\n",
    "Algo que conocen muy bien los diseñadores con cierta experiencia, es que no se puede afrontar cada problema desde cero, por lo general reutilizan soluciones que han trabajado en el pasado y que han representado buenas soluciones a los problemas planteados.\n",
    "\n",
    "Si estas soluciones les sirven de manera  recurrente y  estas les brindan las características deseables en el software mencionadas arriba, probablemente se encuentran ante un patrón de diseño.\n",
    "\n",
    "## ¿Qué son los patrones de diseño?\n",
    "Los patrones de diseño son la base para la búsqueda de soluciones a problemas comunes en el desarrollo de software y otros ámbitos referentes al diseño de interacción o interfaces.\n",
    "\n",
    "   > _Un patrón de diseño es una solución a un problema de diseño._\n",
    "\n",
    "Los patrones de diseño son un conjunto de prácticas de óptimo diseño que se utilizan para abordar problemas recurrentes en la programación orientada a objetos.\n",
    "\n",
    "El concepto de patrones de diseño fue el resultado de un trabajo realizado por un grupo de 4 personas Erich Gamma, Richard Helm, Ralph Johnson y John Vlissides, (Gang of four) que se publicó en los _90s_ en un libro titulado \"Design Patterns. Elements of Reusable Object-Oriented Software\" en el que se esbozaban 23 patrones de diseño.\n",
    "\n",
    "Un patrón de diseño puede considerarse como un documento que define una estructura de clases que aborda una situación particular. Para que una solución sea considerada un patrón debe poseer ciertas características. Una de ellas es que debe haber comprobado su efectividad resolviendo problemas similares en ocasiones anteriores. Otra es que debe ser reusable, lo que significa que es aplicable a diferentes problemas de diseño en distintas circunstancias.\n",
    "\n",
    "Los patrones de diseño representa un nivel de abstracción un poco mas elevado de lo que hasta ahora el estudiante esta habituado a trabajar, pero una vez entendido su funcionamiento y utilidad, los diseños serán mucho más flexibles, modulares y reutilizables.\n",
    "En esencia un patrón tiene los siguientes 4 elementos:\n",
    "\n",
    "- **Nombre del patrón:** describe el problema de diseño, su solución y consecuencias en una o dos palabras.\n",
    "- **El problema:** describe cuando aplicar el patrón, explica el problema y su contexto.\n",
    "- **La solución:** describe los elementos del diseño, sus relaciones, responsabilidades y colaboraciones. No describe la implementación o un diseño particular específicamente ya que se adapta mas a una plantilla (template) que puede ser aplicada a varias situaciones.\n",
    "- **Las consecuencias:** son los resultados de aplicar el patrón, los pros y contras de su aplicación. Las consecuencias de la aplicación de un patrón debe incluir el impacto en la flexibilidad, extensibilidad y/o portabilidad del sistema.\n",
    "\n",
    "\n",
    "## Estructuras o plantillas de patrones\n",
    "Para describir un patrón se utilizan plantillas más o menos estandarizadas, de forma que se expresen uniformemente y puedan constituir efectivamente un medio de comunicación uniforme entre diseñadores. La plantilla más común es la utilizada precisamente por el “Gang of Four” y consta de los siguientes apartados:\n",
    "\n",
    "- **Nombre del patrón:** nombre estándar del patrón por el cual será reconocido en la comunidad (normalmente se expresan en inglés).\n",
    "- **Clasificación del patrón:** creacional, estructural o de comportamiento.\n",
    "- **Intención:** ¿Qué problema pretende resolver el patrón?\n",
    "- **También conocido como:** Otros nombres de uso común para el patrón.\n",
    "- **Motivación:** Escenario de ejemplo para la aplicación del patrón.\n",
    "- **Aplicabilidad:** Usos comunes y criterios de aplicabilidad del patrón.\n",
    "- **Estructura:** Diagramas de clases oportunos para describir las clases que intervienen en el patrón.\n",
    "- **Participantes:** Enumeración y descripción de las entidades abstractas (y sus roles) que participan en el patrón.\n",
    "- **Colaboraciones:** Explicación de las interrelaciones que se dan entre los participantes.\n",
    "- **Consecuencias:** Consecuencias positivas y negativas en el diseño derivadas de la aplicación del patrón.\n",
    "- **Implementación:** Técnicas o comentarios oportunos de cara a la implementación del patrón.\n",
    "- **Código de ejemplo:** Código fuente ejemplo de implementación del patrón.\n",
    "- **Usos conocidos:** Ejemplos de sistemas reales que usan el patrón.\n",
    "- **Patrones relacionados:** Referencias cruzadas con otros patrones.\n",
    "\n",
    "_Fuente: https://github.com/apdaza/patrones-gof-python_"
   ]
  },
  {
   "cell_type": "markdown",
   "metadata": {},
   "source": [
    "## Tipos de patrones"
   ]
  },
  {
   "cell_type": "markdown",
   "metadata": {},
   "source": [
    "A continuación listamos los tipos de Patrones que se van a tratar en los Posts siguientes:"
   ]
  },
  {
   "cell_type": "markdown",
   "metadata": {},
   "source": [
    "### Patrones de creación\n",
    "Los patrones de creación abstraen la forma en la que se crean los objetos, permitiendo tratar las clases a crear de forma genérica dejando para más tarde la decisión de qué clases crear o cómo crearlas.\n",
    "\n",
    "**Patrones de creación:**\n",
    "\n",
    "- Singleton\n",
    "- Abstract Factory\n",
    "- Prototype"
   ]
  },
  {
   "cell_type": "markdown",
   "metadata": {},
   "source": [
    "### Patrones estructurales\n",
    "Tratan de conseguir que cambios en los requisitos de la aplicación no ocasionen cambios en las relaciones entre los objetos. Lo fundamental son las relaciones de uso entre los objetos, y, éstas están determinadas por las interfaces que soportan los objetos.\n",
    "\n",
    "Estudian como se relacionan los objetos en tiempo de ejecución. Sirven para diseñar las interconexiones entre los objetos.\n",
    "\n",
    "**Patrones estructurales:**\n",
    "\n",
    "- Adapter\n",
    "- Bridge\n",
    "- Composite\n",
    "- Decorator\n",
    "- Fachada\n",
    "- Flyweight\n",
    "- Proxy"
   ]
  },
  {
   "cell_type": "markdown",
   "metadata": {},
   "source": [
    "### Patrones de comportamiento\n",
    "Los patrones de comportamiento estudian las relaciones entre llamadas entre los diferentes objetos, normalmente ligados con la dimensión temporal.\n",
    "\n",
    "**Patrones de comportamiento:**\n",
    "\n",
    "- Chain of responsability\n",
    "- Command\n",
    "- Interpreter"
   ]
  },
  {
   "cell_type": "markdown",
   "metadata": {},
   "source": [
    "***"
   ]
  },
  {
   "cell_type": "markdown",
   "metadata": {},
   "source": [
    "## Referencias bibliográficas\n",
    "1. Design Patterns. Elements of Reusable Object-Oriented Software - Erich Gamma, Richard Helm, Ralph Johnson, John Vlissides - Addison Wesley (GoF- Gang of Four)\n",
    "2. Patrones de Diseño, Diseño de Software Orientado a Objetos - Joaquin Garcia. http://www.ingenierosoftware.com/analisisydiseno/patrones-diseno.php.\n",
    "3. Patrones de diseño -  http://es.kioskea.net/contents/genie-logiciel/design-patterns.php3.\n",
    "4. Introducción al diseño con patrones – Miguel Lagos Torres. http://www.elrincondelprogramador.com/default.asp?pag=articulos/leer.asp&id=29.\n",
    "5. Object Oriented Desing “Software Desing Principles and Design Patters, http://www.oodesing.com\n",
    "6. Daza Corredor, Alejandro Paolo, https://github.com/apdaza/patrones-gof-python_\n",
    "\n"
   ]
  },
  {
   "cell_type": "markdown",
   "metadata": {},
   "source": [
    "---"
   ]
  },
  {
   "cell_type": "markdown",
   "metadata": {},
   "source": [
    "**Autor**:\n",
    "- [PortFolio | Jaime Sendra Berenguer](https://www.jaimesendraberenguer.com/)\n",
    "\n",
    "\n",
    "\n",
    "<table class=\"tfo-notebook-buttons\" align=\"left\">\n",
    "\n",
    "  <td>\n",
    "    <a target=\"_blank\" href=\"https://www.linkedin.com/in/jaisenbe/\"><img src=\"https://static.wixstatic.com/media/5ee9eb_93f03193bd484ab9b0c172894922677d~mv2.png/v1/fill/w_42,h_42,al_c,q_85,usm_0.66_1.00_0.01/5ee9eb_93f03193bd484ab9b0c172894922677d~mv2.webp\" />Linkedin</a>\n",
    "  </td>\n",
    "  <td>\n",
    "    <a target=\"_blank\" href=\"https://github.com/jaisenbe58r\"><img src=\"https://www.tensorflow.org/images/GitHub-Mark-32px.png\" />GitHub</a>\n",
    "  </td>\n",
    "  <td>\n",
    "    <a target=\"_blank\" href=\"https://medium.com/@jaimesendraberenguer\"><img src=\"https://static.wixstatic.com/media/5ee9eb_8325cf93e20047b7ae2b18c369fd0448~mv2.png/v1/fill/w_42,h_42,al_c,q_85,usm_0.66_1.00_0.01/5ee9eb_8325cf93e20047b7ae2b18c369fd0448~mv2.webp\" />Medium Blog</a>\n",
    "  </td>\n",
    "  <td>\n",
    "    <a target=\"_blank\" href=\"https://www.kaggle.com/jaisenbe58r\"><img src=\"https://static.wixstatic.com/media/5ee9eb_0a6d700146bb4712af78dcaa8f5a3b87~mv2.png/v1/fill/w_42,h_42,al_c,q_85,usm_0.66_1.00_0.01/5ee9eb_0a6d700146bb4712af78dcaa8f5a3b87~mv2.webp\" />Kaggle</a>\n",
    "  </td>\n",
    "</table>"
   ]
  }
 ],
 "metadata": {
  "kernelspec": {
   "display_name": "Python 3",
   "language": "python",
   "name": "python3"
  },
  "language_info": {
   "codemirror_mode": {
    "name": "ipython",
    "version": 3
   },
   "file_extension": ".py",
   "mimetype": "text/x-python",
   "name": "python",
   "nbconvert_exporter": "python",
   "pygments_lexer": "ipython3",
   "version": "3.6.9"
  }
 },
 "nbformat": 4,
 "nbformat_minor": 2
}
